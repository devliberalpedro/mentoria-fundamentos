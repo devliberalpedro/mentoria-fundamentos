{
 "cells": [
  {
   "cell_type": "markdown",
   "metadata": {},
   "source": [
    "# Lista de exercícios 4"
   ]
  },
  {
   "cell_type": "markdown",
   "metadata": {},
   "source": [
    "## Questão 04\n",
    "\n",
    "Faça um programa que receba um valor em horas e dê duas opções ao usuário, converter em minutos ou em segundos. A partir da escolha do usuário, o programa deverá chamar a função específica de conversão.\n",
    "\n",
    "- A função para converter horas em minutos deverá receber como parâmetro a hora e retornar o valor em minutos.\n",
    "- A função para converter horas em segundos deverá receber como parâmetro a hora e retornar o valor em segundos.\n",
    "\n",
    "No programa principal imprima o valor retornado pela função.\n",
    "\n",
    "### O que vamos precisar?\n",
    "\n"
   ]
  },
  {
   "cell_type": "markdown",
   "metadata": {},
   "source": [
    "### Vamos fazer juntos?"
   ]
  },
  {
   "cell_type": "code",
   "execution_count": null,
   "metadata": {},
   "outputs": [],
   "source": [
    "def converter_minutos(horas):\n",
    "    return horas * 60\n",
    "\n",
    "def converter_segundos(horas):\n",
    "    return horas * 3600\n",
    "\n",
    "horas = int(input(\"Informe uma valor de horas: \"))\n",
    "\n",
    "menu = [\"Menu:\", \"1 - Converter em minutos\", \"2 - Converter em segundos\"]\n",
    "\n",
    "for idx in menu:\n",
    "    print(idx)\n",
    "\n",
    "escolha = int(input(\"Qual conversão deseja? \"))\n",
    "\n",
    "if escolha == 1:\n",
    "    convertido = converter_minutos(horas)\n",
    "    print(f\"O valor de {horas} horas convertidas em minutos: {convertido} minutos\")\n",
    "elif escolha == 2:\n",
    "    convertido = converter_segundos(horas)\n",
    "    print(f\"O valor de {horas} horas convertidas em segundos: {convertido} segundos\")\n",
    "else:\n",
    "    print(\"Valor inválido!\")\n"
   ]
  },
  {
   "cell_type": "markdown",
   "metadata": {},
   "source": [
    "### Explicação:\n"
   ]
  }
 ],
 "metadata": {
  "kernelspec": {
   "display_name": "Python 3",
   "language": "python",
   "name": "python3"
  },
  "language_info": {
   "codemirror_mode": {
    "name": "ipython",
    "version": 3
   },
   "file_extension": ".py",
   "mimetype": "text/x-python",
   "name": "python",
   "nbconvert_exporter": "python",
   "pygments_lexer": "ipython3",
   "version": "3.12.5"
  }
 },
 "nbformat": 4,
 "nbformat_minor": 2
}

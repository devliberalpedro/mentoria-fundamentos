{
 "cells": [
  {
   "cell_type": "markdown",
   "metadata": {},
   "source": [
    "# Lista de exercícios 4"
   ]
  },
  {
   "cell_type": "markdown",
   "metadata": {},
   "source": [
    "## Questão 02\n",
    "\n",
    "Faça uma função que receba uma lista de números e dois valores (limite inferior e limite superior). A função deverá retornar uma lista cujo os elementos são maiores ou iguais ao limite inferior e menores ou iguais ao limite superior.\n",
    "\n",
    "No programa principal, informe 10 números inteiros, armazenando-os numa lista. Informe também o limite inferior e o limite superior.\n",
    "\n",
    "Teste a função implementada e exiba o resultado.\n",
    "\n",
    "### O que vamos precisar?\n",
    "\n",
    "- funções\n",
    "- listas\n",
    "- laço de repetição\n",
    "- condicionais"
   ]
  },
  {
   "cell_type": "markdown",
   "metadata": {},
   "source": [
    "### Vamos fazer juntos?"
   ]
  },
  {
   "cell_type": "code",
   "execution_count": 9,
   "metadata": {},
   "outputs": [
    {
     "name": "stdout",
     "output_type": "stream",
     "text": [
      "[4, 7, 6, 3, 5, 7, 8, 5]\n"
     ]
    }
   ],
   "source": [
    "def nova_lista(lista, inferior, superior):\n",
    "    nova_lista = []\n",
    "\n",
    "    for valor in lista:\n",
    "        if inferior <= valor <= superior:\n",
    "            nova_lista.append(valor)\n",
    "    \n",
    "    return nova_lista\n",
    "\n",
    "lista = []\n",
    "\n",
    "for idx in range(10):\n",
    "    numero = int(input(f\"Insira o {idx + 1}º número: \"))\n",
    "    lista.append(numero)\n",
    "\n",
    "inferior = int(input(\"Insira o limite inferior: \"))\n",
    "superior = int(input(\"Insira o limite superior: \"))\n",
    "\n",
    "print(nova_lista(lista, inferior, superior))"
   ]
  },
  {
   "cell_type": "markdown",
   "metadata": {},
   "source": [
    "### Explicação:\n",
    "\n",
    "\n"
   ]
  }
 ],
 "metadata": {
  "kernelspec": {
   "display_name": "Python 3",
   "language": "python",
   "name": "python3"
  },
  "language_info": {
   "codemirror_mode": {
    "name": "ipython",
    "version": 3
   },
   "file_extension": ".py",
   "mimetype": "text/x-python",
   "name": "python",
   "nbconvert_exporter": "python",
   "pygments_lexer": "ipython3",
   "version": "3.12.6"
  }
 },
 "nbformat": 4,
 "nbformat_minor": 2
}

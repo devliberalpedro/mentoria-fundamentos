{
 "cells": [
  {
   "cell_type": "markdown",
   "metadata": {},
   "source": [
    "# Lista de exercícios 4"
   ]
  },
  {
   "cell_type": "markdown",
   "metadata": {},
   "source": [
    "## Questão 03\n",
    "\n",
    "Desenvolva uma função que permita receber uma variável inteira X inúmeras vezes (deve parar quando o valor digitado for igual a zero). Como retorno da função, para cada valor lido deverá ser imprimido a sequência de 1 até X (o número digitado), com um espaço entre cada número e seu sucessor.\n",
    "\n",
    "### O que vamos precisar?\n",
    "\n",
    "- funções\n",
    "- laço de repetição\n",
    "- condicionais"
   ]
  },
  {
   "cell_type": "markdown",
   "metadata": {},
   "source": [
    "### Vamos fazer juntos?"
   ]
  },
  {
   "cell_type": "code",
   "execution_count": null,
   "metadata": {},
   "outputs": [],
   "source": [
    "def imprimir(valor):\n",
    "    sequencia = \"\"\n",
    "\n",
    "    for i in range(1, valor):\n",
    "        sequencia += \" \".join(str(i))\n",
    "    \n",
    "    return sequencia\n",
    "\n",
    "while True:\n",
    "    valor = int(input(\"Informe um valor: \"))\n",
    "\n",
    "    if valor == 0:\n",
    "        break\n",
    "\n",
    "    print(imprimir(valor))\n"
   ]
  },
  {
   "cell_type": "markdown",
   "metadata": {},
   "source": [
    "### Explicação:\n"
   ]
  }
 ],
 "metadata": {
  "kernelspec": {
   "display_name": "Python 3",
   "language": "python",
   "name": "python3"
  },
  "language_info": {
   "codemirror_mode": {
    "name": "ipython",
    "version": 3
   },
   "file_extension": ".py",
   "mimetype": "text/x-python",
   "name": "python",
   "nbconvert_exporter": "python",
   "pygments_lexer": "ipython3",
   "version": "3.12.5"
  }
 },
 "nbformat": 4,
 "nbformat_minor": 2
}

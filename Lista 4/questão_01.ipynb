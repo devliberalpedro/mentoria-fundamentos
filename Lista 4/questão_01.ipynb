{
 "cells": [
  {
   "cell_type": "markdown",
   "metadata": {},
   "source": [
    "# Lista de exercícios 4"
   ]
  },
  {
   "cell_type": "markdown",
   "metadata": {},
   "source": [
    "## 1. Questão 01\n",
    "\n",
    "Por conta da pandemia, o CEF (Curso Estudante Feliz) adotou o Google Classroom como ferramenta para auxiliar o ensino remoto. Para acessá-lo, os estudantes precisam logar com e-mail institucional e senha.\n",
    "\n",
    "A senha inicial, enviada pela Agenda Digital, é gerada automaticamente a partir da data de nascimento do aluno, do seguinte modo:\n",
    "\n",
    "> ### mm + ‘$’ + dd(invertido) + ‘#’ + dd + ‘!’ + mm(invertido) + ‘*’ + aaaa\n",
    "\n",
    "Escreva um programa que leia o dia, mês e ano de nascimento de um estudante e informe a senha de acordo com a formatação acima."
   ]
  },
  {
   "cell_type": "markdown",
   "metadata": {},
   "source": [
    "## Vamos fazer juntos?"
   ]
  },
  {
   "cell_type": "code",
   "execution_count": 7,
   "metadata": {},
   "outputs": [
    {
     "name": "stdout",
     "output_type": "stream",
     "text": [
      "A sua senha é: 05$60#0650*1982\n"
     ]
    }
   ],
   "source": [
    "def gerar_senha(dia, mes, ano):\n",
    "    print(f\"A sua senha é: {mes}${dia[1]}{dia[0]}#{dia}!{mes[1]}{mes[0]}*{ano}\")\n",
    "\n",
    "dia = input(\"Informe o dia do seu nascimento (dd): \")\n",
    "mes = input(\"Informe o mês do seu nascimento (mm): \")\n",
    "ano = input(\"Informe o ano do seu nascimento (aaaa): \")\n",
    "\n",
    "gerar_senha(dia, mes, ano)"
   ]
  },
  {
   "cell_type": "markdown",
   "metadata": {},
   "source": [
    "### Solução 02 (mais elegante):"
   ]
  },
  {
   "cell_type": "code",
   "execution_count": null,
   "metadata": {},
   "outputs": [],
   "source": [
    "def gerar_senha(dia, mes, ano):\n",
    "    return \"Sua senha é: \" + mes + \"$\" + ''.join(reversed(dia)) + \"#\" + dia + \"!\" + ''.join(reversed(mes)) + \"*\" + ano\n",
    "    #return \"Sua senha é: \" + mes + \"$\" + dia[::-1] + \"#\" + dia + \"!\" + mes[::-1] + \"*\" + ano\n",
    "\n",
    "dia = mes = ano = \"\"\n",
    "\n",
    "while len(dia) != 2:\n",
    "    dia = input(\"Insira o dia de seu nascimento (dd): \")\n",
    "\n",
    "    if len(dia) != 2:\n",
    "        print(\">> O dia precisa ter dois dígitos! <<\")\n",
    "\n",
    "while len(mes) != 2:\n",
    "    mes = input(\"Insira o mês de seu nascimento (mm): \")\n",
    "\n",
    "    if len(mes) != 2:\n",
    "        print(\">> O mês precisa ter dois dígitos! <<\")\n",
    "\n",
    "while len(ano) != 4:\n",
    "    ano = input(\"Informe o ano de seu nascimento (yyyy): \")\n",
    "\n",
    "    if len(ano) != 4:\n",
    "        print(\">> O ano precisa ter quatro dígitos! << \")\n",
    "\n",
    "print(gerar_senha(dia, mes, ano))"
   ]
  },
  {
   "cell_type": "markdown",
   "metadata": {},
   "source": [
    "### Explicação da forma elaborada:\n",
    "\n",
    "- Fizemos uso do while para garantir que o valor informado tivesse o tamanho correto, no caso, dois caracteres (usamos string pois tipos numéricos iriam ignorar o zero nos meses de janeiro ate setembro)\n",
    "- Para o retorno da senha, gerada na função definida, fizemos uso do método join para manipular as strings de dia e mes conforme padrão da senha\n",
    "- Curiosidade: Também podemos inverter uma string passando o valor de ::-1 como index. Exemplo: var[::-1] irá ser o inverso de var\n"
   ]
  }
 ],
 "metadata": {
  "kernelspec": {
   "display_name": "Python 3",
   "language": "python",
   "name": "python3"
  },
  "language_info": {
   "codemirror_mode": {
    "name": "ipython",
    "version": 3
   },
   "file_extension": ".py",
   "mimetype": "text/x-python",
   "name": "python",
   "nbconvert_exporter": "python",
   "pygments_lexer": "ipython3",
   "version": "3.12.5"
  }
 },
 "nbformat": 4,
 "nbformat_minor": 2
}

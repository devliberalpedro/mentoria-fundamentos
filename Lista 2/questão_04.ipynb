{
 "cells": [
  {
   "cell_type": "markdown",
   "metadata": {},
   "source": [
    "# Lista de exercícios 02"
   ]
  },
  {
   "cell_type": "markdown",
   "metadata": {},
   "source": [
    "## 1. Questão 04\n",
    "\n",
    "Uma empresa irá realizar uma queima de estoque com os produtos que tiverem poucas unidades disponíveis. Os descontos aplicados seguem os seguintes critérios:\n",
    "\n",
    "- 40% de desconto: até 2 unidades;\n",
    "- 30% de desconto: entre 3 e 5 unidades;\n",
    "- 20% de desconto: entre 6 e 9 unidades;\n",
    "- 10% de desconto: 10 unidades ou mais\n",
    "\n",
    "Faça um programa que receba o código do produto (número inteiro positivo), o valor unitário e o total em estoque. Para cada produto informado o sistema deverá apresentar qual desconto foi concedido e o novo valor unitário.\n",
    "\n",
    "O sistema irá finalizar quando forem digitados 6 códigos de produto."
   ]
  },
  {
   "cell_type": "code",
   "execution_count": null,
   "metadata": {},
   "outputs": [],
   "source": []
  }
 ],
 "metadata": {
  "language_info": {
   "name": "python"
  }
 },
 "nbformat": 4,
 "nbformat_minor": 2
}

{
 "cells": [
  {
   "cell_type": "markdown",
   "metadata": {},
   "source": [
    "# Lista de exercícios 02"
   ]
  },
  {
   "cell_type": "markdown",
   "metadata": {},
   "source": [
    "## 1. Questão 01\n",
    "\n",
    "Desenvolva um programa para ler a quantidade de pessoas de um grupo. Para cada integrante, informe o peso. O algorítmo deverá imprimir a média dos pesos e quantos estão acima de 80kg"
   ]
  },
  {
   "cell_type": "code",
   "execution_count": null,
   "metadata": {},
   "outputs": [],
   "source": [
    "# Realizamos o input convertendo para o tipo inteiro, para facilitar a lógica do código. Lembrem-se que o input, por padrão, sem conversão, receberá uma string!\n",
    "qtd_integrantes = int(input(\"Informe a quantidade de integrantes do grupo: \"))\n",
    "# Definimos uma variável para armazenar  a soma dos pesos e quantas pessoas estão acima de 80kg.\n",
    "# Inicializamos estas variáveis com o valor zero.\n",
    "soma = acima = 0\n",
    "\n",
    "# Nosso for irá repetir a quantidade de integrantes que informamos no input inicial\n",
    "# A variãvel idx é um contador que começa em zero e será incrementado (+1) a cada repetição até chegar no valor da variável qtd_integrantes\n",
    "for idx in range(qtd_integrantes):\n",
    "    # A cada interação, somaremos o peso informado à soma dos pesos (na primeira interação, a soma iniciará com zero)\n",
    "    peso = float(input(f\"Informe o peso do {idx + 1}º integrante: \"))\n",
    "    soma += peso\n",
    "\n",
    "    # Se o peso informado for maior que 80, incrementamos em 1 a variável acima (que inicia com zero na primeira repetição)\n",
    "    if peso > 80:\n",
    "        acima += 1\n",
    "\n",
    "# O uso do print formatado (o tal do 'f' antes das aspas duplas, ajuda a manter o código legível)\n",
    "# O entendimento dele é simples: irá escrever a saída de sua string e, quando desejar imprimir o valor de uma variável nela, basta colocar entre chaves. Exemplo: {variável}\n",
    "print(f\"A média de peso entre os {qtd_integrantes} integrantes é de {soma / qtd_integrantes}\")\n",
    "print(f\"{acima} integrantes estão acima de 80kg\")\n"
   ]
  }
 ],
 "metadata": {
  "kernelspec": {
   "display_name": "Python 3",
   "language": "python",
   "name": "python3"
  },
  "language_info": {
   "codemirror_mode": {
    "name": "ipython",
    "version": 3
   },
   "file_extension": ".py",
   "mimetype": "text/x-python",
   "name": "python",
   "nbconvert_exporter": "python",
   "pygments_lexer": "ipython3",
   "version": "3.12.6"
  }
 },
 "nbformat": 4,
 "nbformat_minor": 2
}

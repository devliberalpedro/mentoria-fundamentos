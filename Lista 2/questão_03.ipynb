{
 "cells": [
  {
   "cell_type": "markdown",
   "metadata": {},
   "source": [
    "# Lista de exercícios 02"
   ]
  },
  {
   "cell_type": "markdown",
   "metadata": {},
   "source": [
    "## 1. Questão 03\n",
    "\n",
    "Faça um algorítmo que receba idade de 6 pessoas. Por fim, o algirítmo deve informar:\n",
    "\n",
    "- Quantas idades foram lidas;\n",
    "- maior idade;\n",
    "- menor idade;\n",
    "- média das idades "
   ]
  },
  {
   "cell_type": "code",
   "execution_count": null,
   "metadata": {},
   "outputs": [],
   "source": [
    "# Teremos variáveis para armazenar a soma das idades, calcular a média das idades, contar quantas idades foram lidas\n",
    "# quantas pessoas são maior de idade e também menor de idade. Inicializamos todas com zero\n",
    "soma_idades = media = idades_lidas = menores = maiores = 0 \n",
    "\n",
    "# Nosso for irá repetir por 6 ocasiões\n",
    "# A variãvel idx é um contador que começa em zero e será incrementado (+1) a cada repetição até chegar no valor seis\n",
    "for idx in range(6):\n",
    "    # Também podemos usar a formatação no input. Neste caso, usamos para imprimir se estamos pedindo a 1ª, 2ª, ... , 6ª idade.\n",
    "    # Colocamos idx + 1 para informar qual idade coletamos por o idx inicia em zero, como citado antes do for\n",
    "    idade = int(input(f\"Informe a {idx + 1}ª idade: \"))\n",
    "\n",
    "    # Verificamos se a idade inserida é maior do que zero, evitando que o programa use valores negativos ou zero em seus cálculos, criando um erro\n",
    "    # Somente se a idade for maior que zero, incrementamos a soma da idade, a quantidade de idades lidas e verificamos se é maior ou menor de idade\n",
    "    if idade > 0:\n",
    "        soma_idades += idade\n",
    "        idades_lidas += 1\n",
    "\n",
    "        # Vreificamos se a pessoa é maior ou menor de idade e incrementamos (+1) a variável correspondente\n",
    "        if idade >= 18:\n",
    "            maiores += 1\n",
    "        else:\n",
    "            menores += 1\n",
    "\n",
    "# O uso do print formatado (o tal do 'f' antes das aspas duplas, ajuda a manter o código legível)# o entendimento dele é simples: irá escrever a saída de sua string e, quando desejar imprimir o valor de uma variável nela, basta colocar entre chaves. Exemplo: {variável}\n",
    "print(f\"Foram lidas o total de {idades_lidas} idades, com uma média de {soma_idades / idades_lidas} anos.\")\n",
    "print(f\"{maiores} pessoas estão na maioridade enquanto {menores} pessoas são menores de idade\")\n",
    "    \n"
   ]
  }
 ],
 "metadata": {
  "kernelspec": {
   "display_name": ".venv",
   "language": "python",
   "name": "python3"
  },
  "language_info": {
   "codemirror_mode": {
    "name": "ipython",
    "version": 3
   },
   "file_extension": ".py",
   "mimetype": "text/x-python",
   "name": "python",
   "nbconvert_exporter": "python",
   "pygments_lexer": "ipython3",
   "version": "3.12.6"
  }
 },
 "nbformat": 4,
 "nbformat_minor": 2
}

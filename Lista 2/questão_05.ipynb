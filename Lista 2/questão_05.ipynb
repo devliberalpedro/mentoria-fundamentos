{
 "cells": [
  {
   "cell_type": "markdown",
   "metadata": {},
   "source": [
    "# Lista de exercícios 02"
   ]
  },
  {
   "cell_type": "markdown",
   "metadata": {},
   "source": [
    "## 1. Questão 05\n",
    "\n",
    "Desenvolva um programa utilizando o for que faça a tabuada de um número inteiro que será digitado pelo usuário. Mas a tabuada não deve, necessariamente, iniciar em 1 e terminar em 10, o valor inicial deve ser informado pelo usuário.\n",
    "\n",
    "Exemplo (mostrar a tabuada de 5):\n",
    "- Começar por 4\n",
    "- terminar em 7\n",
    "\n",
    "Saída de dados:\n",
    "- 5x4 = 20\n",
    "- 5x5 = 25\n",
    "- 5x6 = 30\n",
    "- 5x7 = 35"
   ]
  },
  {
   "cell_type": "code",
   "execution_count": null,
   "metadata": {},
   "outputs": [],
   "source": []
  }
 ],
 "metadata": {
  "kernelspec": {
   "display_name": ".venv",
   "language": "python",
   "name": "python3"
  },
  "language_info": {
   "codemirror_mode": {
    "name": "ipython",
    "version": 3
   },
   "file_extension": ".py",
   "mimetype": "text/x-python",
   "name": "python",
   "nbconvert_exporter": "python",
   "pygments_lexer": "ipython3",
   "version": "3.12.6"
  }
 },
 "nbformat": 4,
 "nbformat_minor": 2
}

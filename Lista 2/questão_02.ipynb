{
 "cells": [
  {
   "cell_type": "markdown",
   "metadata": {},
   "source": [
    "# Lista de exercícios 02"
   ]
  },
  {
   "cell_type": "markdown",
   "metadata": {},
   "source": [
    "## 1. Questão 02\n",
    "\n",
    "A funenária Sua Hora Chegou possui vários caixões. O algorítmo deverá cadastrar o código dos caixões até o usuário digitar -1 (quando digitar -1 ele encerra) e sair do cadastro. Por fim, o algorítmo mostrará o número de caixões cadastrados. Utilize o while."
   ]
  },
  {
   "cell_type": "code",
   "execution_count": null,
   "metadata": {},
   "outputs": [],
   "source": [
    "# Armazenará o total de caixões\n",
    "qtd_caixoes = 0\n",
    "\n",
    "# Usamos o while True quando não sabemos quantas repetições teremos\n",
    "# Neste caso, nossa condição de parar as repetições é o usuário inserir o valor -1\n",
    "# Por conta disto, precisamos verificar o valor inseriro logo após o input, para evitar que o valor -1 seja calculado em alguma variável\n",
    "while True:\n",
    "    # Realizamos o input convertendo para o tipo inteiro, para facilitar a lógica do código. Lembrem-se que o input, por padrão, sem conversão, receberá uma string!\n",
    "    codigo = int(input(\"Informe o código do caixão: \"))\n",
    "\n",
    "    # Validamos se o valor inserido equivale à condição de saída do loop\n",
    "    if codigo == -1:\n",
    "        # O break é o comando que encerra, imediatamente, o loop que está em execução.\n",
    "        break\n",
    "\n",
    "    # Caso o valor não seja equivalente à condição de saída, incrementamos a quantidade de caixões (+1)\n",
    "    qtd_caixoes += 1\n",
    "\n",
    "# O uso do print formatado (o tal do 'f' antes das aspas duplas, ajuda a manter o código legível)\n",
    "# o entendimento dele é simples: irá escrever a saída de sua string e, quando desejar imprimir o valor de uma variável nela, basta colocar entre chaves. Exemplo: {variável}\n",
    "print(f\"Foi/Foram cadastrado(s) um total de {qtd_caixoes} caixão/caixões no sistema\")"
   ]
  }
 ],
 "metadata": {
  "kernelspec": {
   "display_name": ".venv",
   "language": "python",
   "name": "python3"
  },
  "language_info": {
   "codemirror_mode": {
    "name": "ipython",
    "version": 3
   },
   "file_extension": ".py",
   "mimetype": "text/x-python",
   "name": "python",
   "nbconvert_exporter": "python",
   "pygments_lexer": "ipython3",
   "version": "3.12.6"
  }
 },
 "nbformat": 4,
 "nbformat_minor": 2
}

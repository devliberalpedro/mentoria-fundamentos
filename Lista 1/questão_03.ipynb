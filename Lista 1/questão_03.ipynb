{
 "cells": [
  {
   "cell_type": "markdown",
   "metadata": {},
   "source": [
    "# Lista de exercícios 01"
   ]
  },
  {
   "cell_type": "markdown",
   "metadata": {},
   "source": [
    "## 1. Questão 03\n",
    "\n",
    "Desenvolva um programa que leia a área em m² de um terreno retangular. Ao final, o programa deverá mostrar a classificação deste terreno, de acordo com a lista abaixo:\n",
    "\n",
    "- Abaixo de 100m²: TERRENO POPULAR\n",
    "- Entre 100m² e 500m²: TERRENO MASTER\n",
    "- Acima de 500m²: TERRENO VIP\n",
    "\n",
    "Obs: Cálculo da área de um retângulo: Área = Base X Altura"
   ]
  },
  {
   "cell_type": "code",
   "execution_count": null,
   "metadata": {},
   "outputs": [],
   "source": [
    "# Realizamos a conversão do input para o tipo float, pois o padrão do input é receber uma string\n",
    "base = float(input(\"Qual a base do terreno: \"))\n",
    "altura = float(input(\"Qual a altura do terreno: \"))\n",
    "\n",
    "# Realizamos o cálculo da área deste retângulo\n",
    "area = base * altura\n",
    "\n",
    "# Usamos o else nestas condicionais para garantir que, se o usuário inserir o valor zero ou valor negativo, não apresentará\n",
    "# um terreno de área nula ou negativa, otimizando nosso código\n",
    "if area > 0 and area < 100:\n",
    "    print(\"Terreno popular\")\n",
    "elif area >= 100 and area <= 500:\n",
    "    print(\"Terreno master\")\n",
    "elif area > 500:\n",
    "    print(\"Terreno VIP\")\n",
    "else:\n",
    "    print(\"Tamanho inválido!\") "
   ]
  }
 ],
 "metadata": {
  "kernelspec": {
   "display_name": ".venv",
   "language": "python",
   "name": "python3"
  },
  "language_info": {
   "codemirror_mode": {
    "name": "ipython",
    "version": 3
   },
   "file_extension": ".py",
   "mimetype": "text/x-python",
   "name": "python",
   "nbconvert_exporter": "python",
   "pygments_lexer": "ipython3",
   "version": "3.12.6"
  }
 },
 "nbformat": 4,
 "nbformat_minor": 2
}

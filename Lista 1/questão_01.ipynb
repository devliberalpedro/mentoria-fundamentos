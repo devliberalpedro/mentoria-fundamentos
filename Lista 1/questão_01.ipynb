{
 "cells": [
  {
   "cell_type": "markdown",
   "metadata": {},
   "source": [
    "# Lista de exercícios 01"
   ]
  },
  {
   "cell_type": "markdown",
   "metadata": {},
   "source": [
    "## 1. Questão 01\n",
    "\n",
    "Um programa de vida saudável quer dar pontos para atividades físicas, os quais poderão ser trocados por dinheiro. O sistema funciona assim:\n",
    "\n",
    "- até 10 horas de atividades no mês: ganha 2 pontos por hora;\n",
    "- de 11 até 20 horas de atividades por mês: ganha 5 pontos por hora\n",
    "- acima de 20 horas de atividades por mês: ganha 10 pontos por hora.\n",
    "\n",
    "Faça um programa que leia quantas horas de atividades uma pessoa teve por mês, calcule e mostre quantos pontos ela obteve."
   ]
  },
  {
   "cell_type": "code",
   "execution_count": null,
   "metadata": {},
   "outputs": [],
   "source": [
    "# Realizamos o input convertendo para o tipo inteiro, para facilitar a lógica do código. Lembrem-se que o input, por padrão, sem conversão, receberá uma string!\n",
    "horas_atividades = int(input(\"Quantidade de horas de atividades: \"))\n",
    "\n",
    "# Precisamos analizar apenas duas condições, uma vez que, se ambas não forem atendidas, obrigatoriamente entramos no terceiro intervalor de pontuação\n",
    "# Primeiro verificamos se o valor é menor ou igual a 10, em seguida verificamos se está no intervalo entre 11 e 20 horas. Caso não esteja em ambas, entra acima de 20 horas.\n",
    "if horas_atividades <= 10:\n",
    "    # O uso do print formatado (o tal do 'f' antes das aspas duplas, ajuda a manter o código legível)\n",
    "    # o entendimento dele é simples: irá escrever a saída de sua string e, quando desejar imprimir o valor de uma variável nela, basta colocar entre chaves. Exemplo: {variável}\n",
    "    print(f\"Você acumulou {horas_atividades * 2} pontos no mês\")\n",
    "elif horas_atividades >= 11 and horas_atividades <= 20:\n",
    "    print(f\"Você acumulou {horas_atividades * 5} pontos no mês\")\n",
    "else:\n",
    "    print(f\"Você acumulou {horas_atividades * 10} pontos no mês\")\n",
    "\n"
   ]
  },
  {
   "cell_type": "markdown",
   "metadata": {},
   "source": [
    "## Observações:\n",
    "\n",
    "Para um programa mais robusco, caso deseje, podemos verificar se o número inserido é zero ou negativo e informar uma quantidade inválida de horas de atividade. Também podemos calcular o tempo máximo de horas em um mês (720 horas para meses com 30 dias)"
   ]
  }
 ],
 "metadata": {
  "kernelspec": {
   "display_name": ".venv",
   "language": "python",
   "name": "python3"
  },
  "language_info": {
   "codemirror_mode": {
    "name": "ipython",
    "version": 3
   },
   "file_extension": ".py",
   "mimetype": "text/x-python",
   "name": "python",
   "nbconvert_exporter": "python",
   "pygments_lexer": "ipython3",
   "version": "3.12.6"
  }
 },
 "nbformat": 4,
 "nbformat_minor": 2
}

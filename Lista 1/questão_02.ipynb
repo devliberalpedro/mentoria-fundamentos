{
 "cells": [
  {
   "cell_type": "markdown",
   "metadata": {},
   "source": [
    "# Lista de exercícios 01"
   ]
  },
  {
   "cell_type": "markdown",
   "metadata": {},
   "source": [
    "## 1. Questão 02\n",
    "\n",
    "Precisa-se desenvolver um sistema para verificar se um aluno foi aprovado na disciplina. Pede-se que o professor insira as duas notas do aluno e a sua frequência em porcentagem.\n",
    "\n",
    "Primeiro, verifica-se se o aluno teve 75% de frequência, caso seja verdadeiro, verifica-se se a média do aluno é maior ou igual a 7, mostrando a mensagem \"Aprovado por média\". Se não, mostra-se a mensagem \"Reprovado por média\"\n",
    "\n",
    "Mas, se a frequência for abaixo de 75%, mostra a mensagem \"Reprovado por falta\""
   ]
  },
  {
   "cell_type": "code",
   "execution_count": null,
   "metadata": {},
   "outputs": [],
   "source": [
    "# As notas deverão ser convertidas para ponto flutuante no input. Lembrem-se que o input, por padrão, sem conversão, receberá uma string!\n",
    "nota1 = float(input(\"Insira a 1ª nota: \"))\n",
    "nota2 = float(input(\"Insira a 2ª nota: \"))\n",
    "\n",
    "# A frequência deverá ser convertida para um inteiro no input. Lembrem-se que o input, por padrão, sem conversão, receberá uma string!\n",
    "frequencia = int(input(\"Insira a frequência do aluno (em porcentagem): \"))\n",
    "\n",
    "# Primeiro verificamos a frequência do aluno pois, caso seja inferior ao mínimo solicitado, não precisamos executar o cálculo da média e entramos no else, \n",
    "# imprimindo que o aluno foi reprovado por falta\n",
    "if frequencia >= 75:\n",
    "    # Calculamos a média e verificamos em qual condição ela se e enquadra: Se maior ou igual a sete, imprime que foi aprovado, caso inferior, imprime reprovado\n",
    "    media = (nota1 + nota2) / 2\n",
    "\n",
    "    if media >= 7:\n",
    "        # O uso do print formatado (o tal do 'f' antes das aspas duplas, ajuda a manter o código legível)\n",
    "        # o entendimento dele é simples: irá escrever a saída de sua string e, quando desejar imprimir o valor de uma variável nela, basta colocar entre chaves.\n",
    "        # Exemplo: {variável}\n",
    "        print(f\"Aprovado por média. Nota: {media}\")\n",
    "    else:\n",
    "        print(f\"Reprovado por média. Nota: {media}\")\n",
    "else:\n",
    "    print(\"Reprovado por falta\")"
   ]
  }
 ],
 "metadata": {
  "kernelspec": {
   "display_name": ".venv",
   "language": "python",
   "name": "python3"
  },
  "language_info": {
   "codemirror_mode": {
    "name": "ipython",
    "version": 3
   },
   "file_extension": ".py",
   "mimetype": "text/x-python",
   "name": "python",
   "nbconvert_exporter": "python",
   "pygments_lexer": "ipython3",
   "version": "3.12.6"
  }
 },
 "nbformat": 4,
 "nbformat_minor": 2
}

{
 "cells": [
  {
   "cell_type": "markdown",
   "metadata": {},
   "source": [
    "# Lista de exercícios 01"
   ]
  },
  {
   "cell_type": "markdown",
   "metadata": {},
   "source": [
    "## 1. Questão 05\n",
    "\n",
    "Ler o nome de 2 times e o número de gols marcados na partida (para cada time). Escrever o nome do vencedor. Caso não haja vencedor, deverá ser impressa a palavra EMPATE"
   ]
  },
  {
   "cell_type": "code",
   "execution_count": 3,
   "metadata": {},
   "outputs": [
    {
     "name": "stdout",
     "output_type": "stream",
     "text": [
      "O Coral descolorida venceu!\n"
     ]
    }
   ],
   "source": [
    "# Realizamos os inputs dos times 1 e 2 e seus respectivos gols. Apenas os inputs dos gols deverão ser convertidos para o tipo inteiro\n",
    "time1 = input(\"Nome do 1º time: \")\n",
    "gols1 = int(input(\"Quantos gols o 1º time marcou? \"))\n",
    "\n",
    "time2 = input(\"Nome do 2º time: \")\n",
    "gols2 = int(input(\"Quantos gols o 2º time marcou? \"))\n",
    "\n",
    "# Se um time marcou mais gols que o outro, será o vencedor, caso não, será empate\n",
    "if gols1 > gols2:\n",
    "    # O uso do print formatado (o tal do 'f' antes das aspas duplas, ajuda a manter o código legível)\n",
    "    # o entendimento dele é simples: irá escrever a saída de sua string e, quando desejar imprimir o valor de uma variável nela, basta colocar entre chaves. Exemplo: {variável}\n",
    "    print(f\"O {time1} venceu!\")\n",
    "elif gols1 < gols2:\n",
    "    print(f\"O {time2} venceu!\")\n",
    "else:\n",
    "    print(\"EMPATE\")"
   ]
  }
 ],
 "metadata": {
  "kernelspec": {
   "display_name": ".venv",
   "language": "python",
   "name": "python3"
  },
  "language_info": {
   "codemirror_mode": {
    "name": "ipython",
    "version": 3
   },
   "file_extension": ".py",
   "mimetype": "text/x-python",
   "name": "python",
   "nbconvert_exporter": "python",
   "pygments_lexer": "ipython3",
   "version": "3.12.6"
  }
 },
 "nbformat": 4,
 "nbformat_minor": 2
}

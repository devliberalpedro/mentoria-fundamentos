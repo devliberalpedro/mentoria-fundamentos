{
 "cells": [
  {
   "cell_type": "markdown",
   "metadata": {},
   "source": [
    "# Lista de exercícios 01"
   ]
  },
  {
   "cell_type": "markdown",
   "metadata": {},
   "source": [
    "## 1. Questão 04\n",
    "\n",
    "Uma loja de roupa está em promoção: Acima de 2 peças de roupas compradas e fazendo o pagamento à vista, o cliente tem 20% de desconto no valor total.\n",
    "\n",
    "Faça um algorítmo que receba:\n",
    "\n",
    "- A quantidade de peças compradas\n",
    "- O valor total da compra\n",
    "- O código referente a condição de pagamento\n",
    "\n",
    "1. À vista\n",
    "2. Crédito\n",
    "3. Crédito parcelado\n",
    "\n",
    "Por fim, o algorítmo deverá apresentar uma mensagem informando se o desconto foi aplicado, e em caso positivo, o novo valor da compra"
   ]
  },
  {
   "cell_type": "code",
   "execution_count": null,
   "metadata": {},
   "outputs": [],
   "source": [
    "# Realizamos os inputs convertendo para os respectivos tipos. Lembrem-se, o input recebe uma string por padrão\n",
    "quantidade = int(input(\"Quantas peças foram compradas: \"))\n",
    "valor = float(input(\"Valor total da compra: \"))\n",
    "\n",
    "print(\"Forma de pagamento:\")\n",
    "print(\"  1. À vista\")\n",
    "print(\"  2. Crédito\")\n",
    "print(\"  3. Crédito parcelado\")\n",
    "# Convertemos a entrada do usuário para facilitar a verificação da condicional\n",
    "forma = int(input(\"Forma de pagamento: \"))\n",
    "\n",
    "# A única forma do desconto ser aplicado é caso a forma de pagamento seja à vista (valor 1) e a quantidade de peças\n",
    "# for igual ou maior que 2.\n",
    "if forma == 1 and quantidade >= 2:\n",
    "    print(\"Desconto aplicado!\")\n",
    "    # O uso do print formatado (o tal do 'f' antes das aspas duplas, ajuda a manter o código legível)\n",
    "    # o entendimento dele é simples: irá escrever a saída de sua string e, quando desejar imprimir o valor de uma variável nela, basta colocar entre chaves. Exemplo: {variável}\n",
    "    print(f\"Valor da compra sem desconto: {valor}\")\n",
    "    print(f\"Valor da compra com desconto: {valor * 0.8}\")\n",
    "else:\n",
    "    print(\"Desconto não aplicado!\")\n",
    "    print(f\"Valor da compra: {valor}\")"
   ]
  }
 ],
 "metadata": {
  "kernelspec": {
   "display_name": ".venv",
   "language": "python",
   "name": "python3"
  },
  "language_info": {
   "codemirror_mode": {
    "name": "ipython",
    "version": 3
   },
   "file_extension": ".py",
   "mimetype": "text/x-python",
   "name": "python",
   "nbconvert_exporter": "python",
   "pygments_lexer": "ipython3",
   "version": "3.12.6"
  }
 },
 "nbformat": 4,
 "nbformat_minor": 2
}
